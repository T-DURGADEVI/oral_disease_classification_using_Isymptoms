{
  "nbformat": 4,
  "nbformat_minor": 0,
  "metadata": {
    "colab": {
      "provenance": []
    },
    "kernelspec": {
      "name": "python3",
      "display_name": "Python 3"
    },
    "language_info": {
      "name": "python"
    }
  },
  "cells": [
    {
      "cell_type": "code",
      "execution_count": null,
      "metadata": {
        "colab": {
          "base_uri": "https://localhost:8080/"
        },
        "id": "dafXG6VP3E0z",
        "outputId": "ca1884ab-4881-4169-8da1-5866c8c18105"
      },
      "outputs": [
        {
          "output_type": "stream",
          "name": "stdout",
          "text": [
            "Drive already mounted at /content/drive; to attempt to forcibly remount, call drive.mount(\"/content/drive\", force_remount=True).\n"
          ]
        }
      ],
      "source": [
        "from google.colab import drive\n",
        "drive.mount(\"/content/drive\")"
      ]
    },
    {
      "cell_type": "code",
      "source": [
        "import pandas as pd\n",
        "import numpy as np\n",
        "import matplotlib.pyplot as plt"
      ],
      "metadata": {
        "id": "Tth85PLF5G5I"
      },
      "execution_count": null,
      "outputs": []
    },
    {
      "cell_type": "markdown",
      "source": [],
      "metadata": {
        "id": "MrL0SnSuqai3"
      }
    },
    {
      "cell_type": "code",
      "source": [
        "df = pd.read_csv('/content/drive/MyDrive/Data of teeth.csv')"
      ],
      "metadata": {
        "id": "Ns6wViKW5l3H"
      },
      "execution_count": null,
      "outputs": []
    },
    {
      "cell_type": "code",
      "source": [
        "df.head()"
      ],
      "metadata": {
        "colab": {
          "base_uri": "https://localhost:8080/",
          "height": 310
        },
        "id": "nnNr55nS52zv",
        "outputId": "e993bcdc-26f6-49f3-ff8c-ea88ec109ae9"
      },
      "execution_count": null,
      "outputs": [
        {
          "output_type": "execute_result",
          "data": {
            "text/plain": [
              "                      Symptom 1                     Symptom 2  \\\n",
              "0                   gum disease               a cracked tooth   \n",
              "1                   gum disease  worn-down fillings or crowns   \n",
              "2               a cracked tooth                   gum disease   \n",
              "3               a cracked tooth  worn-down fillings or crowns   \n",
              "4  worn-down fillings or crowns                   gum disease   \n",
              "\n",
              "                      Symptom 3                  Disease  Treatment  \\\n",
              "0  worn-down fillings or crowns  dentin hypersensitivity  mouthwash   \n",
              "1               a cracked tooth  dentin hypersensitivity  mouthwash   \n",
              "2  worn-down fillings or crowns  dentin hypersensitivity  mouthwash   \n",
              "3                   gum disease  dentin hypersensitivity  mouthwash   \n",
              "4               a cracked tooth  dentin hypersensitivity  mouthwash   \n",
              "\n",
              "   Unnamed: 5  \n",
              "0         NaN  \n",
              "1         NaN  \n",
              "2         NaN  \n",
              "3         NaN  \n",
              "4         NaN  "
            ],
            "text/html": [
              "\n",
              "  <div id=\"df-7ed6ee12-f375-477d-a37c-ca40f6b63663\" class=\"colab-df-container\">\n",
              "    <div>\n",
              "<style scoped>\n",
              "    .dataframe tbody tr th:only-of-type {\n",
              "        vertical-align: middle;\n",
              "    }\n",
              "\n",
              "    .dataframe tbody tr th {\n",
              "        vertical-align: top;\n",
              "    }\n",
              "\n",
              "    .dataframe thead th {\n",
              "        text-align: right;\n",
              "    }\n",
              "</style>\n",
              "<table border=\"1\" class=\"dataframe\">\n",
              "  <thead>\n",
              "    <tr style=\"text-align: right;\">\n",
              "      <th></th>\n",
              "      <th>Symptom 1</th>\n",
              "      <th>Symptom 2</th>\n",
              "      <th>Symptom 3</th>\n",
              "      <th>Disease</th>\n",
              "      <th>Treatment</th>\n",
              "      <th>Unnamed: 5</th>\n",
              "    </tr>\n",
              "  </thead>\n",
              "  <tbody>\n",
              "    <tr>\n",
              "      <th>0</th>\n",
              "      <td>gum disease</td>\n",
              "      <td>a cracked tooth</td>\n",
              "      <td>worn-down fillings or crowns</td>\n",
              "      <td>dentin hypersensitivity</td>\n",
              "      <td>mouthwash</td>\n",
              "      <td>NaN</td>\n",
              "    </tr>\n",
              "    <tr>\n",
              "      <th>1</th>\n",
              "      <td>gum disease</td>\n",
              "      <td>worn-down fillings or crowns</td>\n",
              "      <td>a cracked tooth</td>\n",
              "      <td>dentin hypersensitivity</td>\n",
              "      <td>mouthwash</td>\n",
              "      <td>NaN</td>\n",
              "    </tr>\n",
              "    <tr>\n",
              "      <th>2</th>\n",
              "      <td>a cracked tooth</td>\n",
              "      <td>gum disease</td>\n",
              "      <td>worn-down fillings or crowns</td>\n",
              "      <td>dentin hypersensitivity</td>\n",
              "      <td>mouthwash</td>\n",
              "      <td>NaN</td>\n",
              "    </tr>\n",
              "    <tr>\n",
              "      <th>3</th>\n",
              "      <td>a cracked tooth</td>\n",
              "      <td>worn-down fillings or crowns</td>\n",
              "      <td>gum disease</td>\n",
              "      <td>dentin hypersensitivity</td>\n",
              "      <td>mouthwash</td>\n",
              "      <td>NaN</td>\n",
              "    </tr>\n",
              "    <tr>\n",
              "      <th>4</th>\n",
              "      <td>worn-down fillings or crowns</td>\n",
              "      <td>gum disease</td>\n",
              "      <td>a cracked tooth</td>\n",
              "      <td>dentin hypersensitivity</td>\n",
              "      <td>mouthwash</td>\n",
              "      <td>NaN</td>\n",
              "    </tr>\n",
              "  </tbody>\n",
              "</table>\n",
              "</div>\n",
              "    <div class=\"colab-df-buttons\">\n",
              "\n",
              "  <div class=\"colab-df-container\">\n",
              "    <button class=\"colab-df-convert\" onclick=\"convertToInteractive('df-7ed6ee12-f375-477d-a37c-ca40f6b63663')\"\n",
              "            title=\"Convert this dataframe to an interactive table.\"\n",
              "            style=\"display:none;\">\n",
              "\n",
              "  <svg xmlns=\"http://www.w3.org/2000/svg\" height=\"24px\" viewBox=\"0 -960 960 960\">\n",
              "    <path d=\"M120-120v-720h720v720H120Zm60-500h600v-160H180v160Zm220 220h160v-160H400v160Zm0 220h160v-160H400v160ZM180-400h160v-160H180v160Zm440 0h160v-160H620v160ZM180-180h160v-160H180v160Zm440 0h160v-160H620v160Z\"/>\n",
              "  </svg>\n",
              "    </button>\n",
              "\n",
              "  <style>\n",
              "    .colab-df-container {\n",
              "      display:flex;\n",
              "      gap: 12px;\n",
              "    }\n",
              "\n",
              "    .colab-df-convert {\n",
              "      background-color: #E8F0FE;\n",
              "      border: none;\n",
              "      border-radius: 50%;\n",
              "      cursor: pointer;\n",
              "      display: none;\n",
              "      fill: #1967D2;\n",
              "      height: 32px;\n",
              "      padding: 0 0 0 0;\n",
              "      width: 32px;\n",
              "    }\n",
              "\n",
              "    .colab-df-convert:hover {\n",
              "      background-color: #E2EBFA;\n",
              "      box-shadow: 0px 1px 2px rgba(60, 64, 67, 0.3), 0px 1px 3px 1px rgba(60, 64, 67, 0.15);\n",
              "      fill: #174EA6;\n",
              "    }\n",
              "\n",
              "    .colab-df-buttons div {\n",
              "      margin-bottom: 4px;\n",
              "    }\n",
              "\n",
              "    [theme=dark] .colab-df-convert {\n",
              "      background-color: #3B4455;\n",
              "      fill: #D2E3FC;\n",
              "    }\n",
              "\n",
              "    [theme=dark] .colab-df-convert:hover {\n",
              "      background-color: #434B5C;\n",
              "      box-shadow: 0px 1px 3px 1px rgba(0, 0, 0, 0.15);\n",
              "      filter: drop-shadow(0px 1px 2px rgba(0, 0, 0, 0.3));\n",
              "      fill: #FFFFFF;\n",
              "    }\n",
              "  </style>\n",
              "\n",
              "    <script>\n",
              "      const buttonEl =\n",
              "        document.querySelector('#df-7ed6ee12-f375-477d-a37c-ca40f6b63663 button.colab-df-convert');\n",
              "      buttonEl.style.display =\n",
              "        google.colab.kernel.accessAllowed ? 'block' : 'none';\n",
              "\n",
              "      async function convertToInteractive(key) {\n",
              "        const element = document.querySelector('#df-7ed6ee12-f375-477d-a37c-ca40f6b63663');\n",
              "        const dataTable =\n",
              "          await google.colab.kernel.invokeFunction('convertToInteractive',\n",
              "                                                    [key], {});\n",
              "        if (!dataTable) return;\n",
              "\n",
              "        const docLinkHtml = 'Like what you see? Visit the ' +\n",
              "          '<a target=\"_blank\" href=https://colab.research.google.com/notebooks/data_table.ipynb>data table notebook</a>'\n",
              "          + ' to learn more about interactive tables.';\n",
              "        element.innerHTML = '';\n",
              "        dataTable['output_type'] = 'display_data';\n",
              "        await google.colab.output.renderOutput(dataTable, element);\n",
              "        const docLink = document.createElement('div');\n",
              "        docLink.innerHTML = docLinkHtml;\n",
              "        element.appendChild(docLink);\n",
              "      }\n",
              "    </script>\n",
              "  </div>\n",
              "\n",
              "\n",
              "<div id=\"df-f64a3c66-6e70-4d1f-9275-2350d82d4c3a\">\n",
              "  <button class=\"colab-df-quickchart\" onclick=\"quickchart('df-f64a3c66-6e70-4d1f-9275-2350d82d4c3a')\"\n",
              "            title=\"Suggest charts\"\n",
              "            style=\"display:none;\">\n",
              "\n",
              "<svg xmlns=\"http://www.w3.org/2000/svg\" height=\"24px\"viewBox=\"0 0 24 24\"\n",
              "     width=\"24px\">\n",
              "    <g>\n",
              "        <path d=\"M19 3H5c-1.1 0-2 .9-2 2v14c0 1.1.9 2 2 2h14c1.1 0 2-.9 2-2V5c0-1.1-.9-2-2-2zM9 17H7v-7h2v7zm4 0h-2V7h2v10zm4 0h-2v-4h2v4z\"/>\n",
              "    </g>\n",
              "</svg>\n",
              "  </button>\n",
              "\n",
              "<style>\n",
              "  .colab-df-quickchart {\n",
              "      --bg-color: #E8F0FE;\n",
              "      --fill-color: #1967D2;\n",
              "      --hover-bg-color: #E2EBFA;\n",
              "      --hover-fill-color: #174EA6;\n",
              "      --disabled-fill-color: #AAA;\n",
              "      --disabled-bg-color: #DDD;\n",
              "  }\n",
              "\n",
              "  [theme=dark] .colab-df-quickchart {\n",
              "      --bg-color: #3B4455;\n",
              "      --fill-color: #D2E3FC;\n",
              "      --hover-bg-color: #434B5C;\n",
              "      --hover-fill-color: #FFFFFF;\n",
              "      --disabled-bg-color: #3B4455;\n",
              "      --disabled-fill-color: #666;\n",
              "  }\n",
              "\n",
              "  .colab-df-quickchart {\n",
              "    background-color: var(--bg-color);\n",
              "    border: none;\n",
              "    border-radius: 50%;\n",
              "    cursor: pointer;\n",
              "    display: none;\n",
              "    fill: var(--fill-color);\n",
              "    height: 32px;\n",
              "    padding: 0;\n",
              "    width: 32px;\n",
              "  }\n",
              "\n",
              "  .colab-df-quickchart:hover {\n",
              "    background-color: var(--hover-bg-color);\n",
              "    box-shadow: 0 1px 2px rgba(60, 64, 67, 0.3), 0 1px 3px 1px rgba(60, 64, 67, 0.15);\n",
              "    fill: var(--button-hover-fill-color);\n",
              "  }\n",
              "\n",
              "  .colab-df-quickchart-complete:disabled,\n",
              "  .colab-df-quickchart-complete:disabled:hover {\n",
              "    background-color: var(--disabled-bg-color);\n",
              "    fill: var(--disabled-fill-color);\n",
              "    box-shadow: none;\n",
              "  }\n",
              "\n",
              "  .colab-df-spinner {\n",
              "    border: 2px solid var(--fill-color);\n",
              "    border-color: transparent;\n",
              "    border-bottom-color: var(--fill-color);\n",
              "    animation:\n",
              "      spin 1s steps(1) infinite;\n",
              "  }\n",
              "\n",
              "  @keyframes spin {\n",
              "    0% {\n",
              "      border-color: transparent;\n",
              "      border-bottom-color: var(--fill-color);\n",
              "      border-left-color: var(--fill-color);\n",
              "    }\n",
              "    20% {\n",
              "      border-color: transparent;\n",
              "      border-left-color: var(--fill-color);\n",
              "      border-top-color: var(--fill-color);\n",
              "    }\n",
              "    30% {\n",
              "      border-color: transparent;\n",
              "      border-left-color: var(--fill-color);\n",
              "      border-top-color: var(--fill-color);\n",
              "      border-right-color: var(--fill-color);\n",
              "    }\n",
              "    40% {\n",
              "      border-color: transparent;\n",
              "      border-right-color: var(--fill-color);\n",
              "      border-top-color: var(--fill-color);\n",
              "    }\n",
              "    60% {\n",
              "      border-color: transparent;\n",
              "      border-right-color: var(--fill-color);\n",
              "    }\n",
              "    80% {\n",
              "      border-color: transparent;\n",
              "      border-right-color: var(--fill-color);\n",
              "      border-bottom-color: var(--fill-color);\n",
              "    }\n",
              "    90% {\n",
              "      border-color: transparent;\n",
              "      border-bottom-color: var(--fill-color);\n",
              "    }\n",
              "  }\n",
              "</style>\n",
              "\n",
              "  <script>\n",
              "    async function quickchart(key) {\n",
              "      const quickchartButtonEl =\n",
              "        document.querySelector('#' + key + ' button');\n",
              "      quickchartButtonEl.disabled = true;  // To prevent multiple clicks.\n",
              "      quickchartButtonEl.classList.add('colab-df-spinner');\n",
              "      try {\n",
              "        const charts = await google.colab.kernel.invokeFunction(\n",
              "            'suggestCharts', [key], {});\n",
              "      } catch (error) {\n",
              "        console.error('Error during call to suggestCharts:', error);\n",
              "      }\n",
              "      quickchartButtonEl.classList.remove('colab-df-spinner');\n",
              "      quickchartButtonEl.classList.add('colab-df-quickchart-complete');\n",
              "    }\n",
              "    (() => {\n",
              "      let quickchartButtonEl =\n",
              "        document.querySelector('#df-f64a3c66-6e70-4d1f-9275-2350d82d4c3a button');\n",
              "      quickchartButtonEl.style.display =\n",
              "        google.colab.kernel.accessAllowed ? 'block' : 'none';\n",
              "    })();\n",
              "  </script>\n",
              "</div>\n",
              "\n",
              "    </div>\n",
              "  </div>\n"
            ],
            "application/vnd.google.colaboratory.intrinsic+json": {
              "type": "dataframe",
              "variable_name": "df",
              "summary": "{\n  \"name\": \"df\",\n  \"rows\": 54,\n  \"fields\": [\n    {\n      \"column\": \"Symptom 1\",\n      \"properties\": {\n        \"dtype\": \"category\",\n        \"num_unique_values\": 19,\n        \"samples\": [\n          \"gum disease\",\n          \"Pain when you bite down\",\n          \"sore throat\"\n        ],\n        \"semantic_type\": \"\",\n        \"description\": \"\"\n      }\n    },\n    {\n      \"column\": \"Symptom 2\",\n      \"properties\": {\n        \"dtype\": \"category\",\n        \"num_unique_values\": 19,\n        \"samples\": [\n          \"a cracked tooth\",\n          \"Black, white, or brown tooth stains\",\n          \"bleeding\"\n        ],\n        \"semantic_type\": \"\",\n        \"description\": \"\"\n      }\n    },\n    {\n      \"column\": \"Symptom 3\",\n      \"properties\": {\n        \"dtype\": \"category\",\n        \"num_unique_values\": 19,\n        \"samples\": [\n          \"worn-down fillings or crowns\",\n          \"Black, white, or brown tooth stains\",\n          \"bleeding\"\n        ],\n        \"semantic_type\": \"\",\n        \"description\": \"\"\n      }\n    },\n    {\n      \"column\": \"Disease\",\n      \"properties\": {\n        \"dtype\": \"category\",\n        \"num_unique_values\": 6,\n        \"samples\": [\n          \"dentin hypersensitivity\",\n          \"cavity\",\n          \"Periodontitis\"\n        ],\n        \"semantic_type\": \"\",\n        \"description\": \"\"\n      }\n    },\n    {\n      \"column\": \"Treatment\",\n      \"properties\": {\n        \"dtype\": \"category\",\n        \"num_unique_values\": 6,\n        \"samples\": [\n          \"mouthwash\",\n          \"Brush your teeth with warm water\",\n          \"Tooth polishing\"\n        ],\n        \"semantic_type\": \"\",\n        \"description\": \"\"\n      }\n    },\n    {\n      \"column\": \"Unnamed: 5\",\n      \"properties\": {\n        \"dtype\": \"number\",\n        \"std\": null,\n        \"min\": null,\n        \"max\": null,\n        \"num_unique_values\": 0,\n        \"samples\": [],\n        \"semantic_type\": \"\",\n        \"description\": \"\"\n      }\n    }\n  ]\n}"
            }
          },
          "metadata": {},
          "execution_count": 4
        }
      ]
    },
    {
      "cell_type": "code",
      "source": [
        "df.info()"
      ],
      "metadata": {
        "colab": {
          "base_uri": "https://localhost:8080/"
        },
        "id": "itg0qB__6Zyh",
        "outputId": "37cb5809-85a3-47b8-e032-5466adbfac10"
      },
      "execution_count": null,
      "outputs": [
        {
          "output_type": "stream",
          "name": "stdout",
          "text": [
            "<class 'pandas.core.frame.DataFrame'>\n",
            "RangeIndex: 54 entries, 0 to 53\n",
            "Data columns (total 6 columns):\n",
            " #   Column      Non-Null Count  Dtype  \n",
            "---  ------      --------------  -----  \n",
            " 0   Symptom 1   54 non-null     object \n",
            " 1   Symptom 2   54 non-null     object \n",
            " 2   Symptom 3   54 non-null     object \n",
            " 3   Disease     54 non-null     object \n",
            " 4   Treatment   54 non-null     object \n",
            " 5   Unnamed: 5  0 non-null      float64\n",
            "dtypes: float64(1), object(5)\n",
            "memory usage: 2.7+ KB\n"
          ]
        }
      ]
    },
    {
      "cell_type": "code",
      "source": [
        "print(\"Size:\", df.size)\n",
        "print(\"Shape:\", df.shape)"
      ],
      "metadata": {
        "colab": {
          "base_uri": "https://localhost:8080/"
        },
        "id": "aq1CrFn_6pJB",
        "outputId": "652b00cf-6485-4c17-bec2-d91d26345e52"
      },
      "execution_count": null,
      "outputs": [
        {
          "output_type": "stream",
          "name": "stdout",
          "text": [
            "Size: 324\n",
            "Shape: (54, 6)\n"
          ]
        }
      ]
    },
    {
      "cell_type": "markdown",
      "source": [
        "**Finding Null Values**"
      ],
      "metadata": {
        "id": "gT9vs-WT-Ss-"
      }
    },
    {
      "cell_type": "code",
      "source": [
        "df.isnull().sum()"
      ],
      "metadata": {
        "colab": {
          "base_uri": "https://localhost:8080/"
        },
        "id": "9PkorLfE61Yv",
        "outputId": "cfe1a764-64d3-4c29-95ad-dc72ae244fbb"
      },
      "execution_count": null,
      "outputs": [
        {
          "output_type": "execute_result",
          "data": {
            "text/plain": [
              "Symptom 1      0\n",
              "Symptom 2      0\n",
              "Symptom 3      0\n",
              "Disease        0\n",
              "Treatment      0\n",
              "Unnamed: 5    54\n",
              "dtype: int64"
            ]
          },
          "metadata": {},
          "execution_count": 7
        }
      ]
    },
    {
      "cell_type": "markdown",
      "source": [
        "**Removing Null Values**"
      ],
      "metadata": {
        "id": "etub1hCe-ff1"
      }
    },
    {
      "cell_type": "code",
      "source": [
        "df = df.dropna(axis=1)"
      ],
      "metadata": {
        "id": "FS3XflSG57L5"
      },
      "execution_count": null,
      "outputs": []
    },
    {
      "cell_type": "code",
      "source": [
        "print(df.shape)"
      ],
      "metadata": {
        "colab": {
          "base_uri": "https://localhost:8080/"
        },
        "id": "ZphmWwiW5466",
        "outputId": "61f1dabf-83b3-4a8d-9874-5c0ff59faecb"
      },
      "execution_count": null,
      "outputs": [
        {
          "output_type": "stream",
          "name": "stdout",
          "text": [
            "(54, 5)\n"
          ]
        }
      ]
    },
    {
      "cell_type": "code",
      "source": [
        "df.isnull().sum()"
      ],
      "metadata": {
        "colab": {
          "base_uri": "https://localhost:8080/"
        },
        "id": "iGXVSrTm8VRg",
        "outputId": "30b4b5a8-f975-46bd-bd12-d18b755ae99d"
      },
      "execution_count": null,
      "outputs": [
        {
          "output_type": "execute_result",
          "data": {
            "text/plain": [
              "Symptom 1    0\n",
              "Symptom 2    0\n",
              "Symptom 3    0\n",
              "Disease      0\n",
              "Treatment    0\n",
              "dtype: int64"
            ]
          },
          "metadata": {},
          "execution_count": 10
        }
      ]
    },
    {
      "cell_type": "markdown",
      "source": [
        "**Finding Unique Values**"
      ],
      "metadata": {
        "id": "yJMB2azn-kLV"
      }
    },
    {
      "cell_type": "code",
      "source": [
        "unique_values = df['Symptom 1'].unique()\n",
        "print(\"Unique values in the column:\", unique_values)\n",
        "print(\"Number of unique values are \",len(unique_values))"
      ],
      "metadata": {
        "colab": {
          "base_uri": "https://localhost:8080/"
        },
        "id": "nX4nVsDQ8pGF",
        "outputId": "bb94febf-fa53-4a75-f76e-c3b201936a2c"
      },
      "execution_count": null,
      "outputs": [
        {
          "output_type": "stream",
          "name": "stdout",
          "text": [
            "Unique values in the column: ['gum disease' 'a cracked tooth' 'worn-down fillings or crowns'\n",
            " 'Black, white, or brown tooth stains' 'Holes or pits in your teeth'\n",
            " 'Pain when you bite down' 'Yellowish discoloration'\n",
            " 'Cracked or chipped teeth' 'Grooves on your teeth’s surface' 'bleeding'\n",
            " 'pain' 'sore throat' 'Ear Pain' 'Dramatic weight loss'\n",
            " 'Difficulty chewing or swallowing' 'Bad breath' 'Painful chewing'\n",
            " 'Red and swollen gums' 'Tender or bleeding gums']\n",
            "Number of unique values are  19\n"
          ]
        }
      ]
    },
    {
      "cell_type": "code",
      "source": [
        "df.groupby('Symptom 1').size().plot(kind='barh', color=sns.palettes.mpl_palette('tab10'))\n",
        "plt.gca().spines[['top', 'right',]].set_visible(False)"
      ],
      "metadata": {
        "colab": {
          "base_uri": "https://localhost:8080/",
          "height": 430
        },
        "id": "x8R9dNkw-I28",
        "outputId": "2ae7a78f-e630-403f-c8a1-d5f114821b61"
      },
      "execution_count": null,
      "outputs": [
        {
          "output_type": "display_data",
          "data": {
            "text/plain": [
              "<Figure size 640x480 with 1 Axes>"
            ],
            "image/png": "[encoded data removed]"
          },
          "metadata": {}
        }
      ]
    },
    {
      "cell_type": "code",
      "source": [
        "unique_values = df['Symptom 2'].unique()\n",
        "print(\"Unique values in the column:\", unique_values)\n",
        "print(\"Number of unique values are \",len(unique_values))"
      ],
      "metadata": {
        "colab": {
          "base_uri": "https://localhost:8080/"
        },
        "id": "fDqhQy8e9ft0",
        "outputId": "7efd39e2-b8ba-4596-d946-682bd51a30d3"
      },
      "execution_count": null,
      "outputs": [
        {
          "output_type": "stream",
          "name": "stdout",
          "text": [
            "Unique values in the column: ['a cracked tooth' 'worn-down fillings or crowns' 'gum disease'\n",
            " 'Holes or pits in your teeth' 'Pain when you bite down'\n",
            " 'Black, white, or brown tooth stains' 'Cracked or chipped teeth'\n",
            " 'Grooves on your teeth’s surface' 'Yellowish discoloration' 'pain'\n",
            " 'sore throat' 'bleeding' 'Dramatic weight loss'\n",
            " 'Difficulty chewing or swallowing' 'Ear Pain' 'Painful chewing'\n",
            " 'Red and swollen gums' 'Tender or bleeding gums' 'Bad breath']\n",
            "Number of unique values are  19\n"
          ]
        }
      ]
    },
    {
      "cell_type": "code",
      "source": [
        "df.groupby('Symptom 2').size().plot(kind='barh', color=sns.palettes.mpl_palette('Set1'))\n",
        "plt.gca().spines[['top', 'right',]].set_visible(False)"
      ],
      "metadata": {
        "colab": {
          "base_uri": "https://localhost:8080/",
          "height": 430
        },
        "id": "4xV5L6FMDb5q",
        "outputId": "2ca6e6fc-cd18-4d0d-df01-00fcdcc36078"
      },
      "execution_count": null,
      "outputs": [
        {
          "output_type": "display_data",
          "data": {
            "text/plain": [
              "<Figure size 640x480 with 1 Axes>"
            ],
            "image/png": "[encoded data removed]"
          },
          "metadata": {}
        }
      ]
    },
    {
      "cell_type": "code",
      "source": [
        "unique_values = df['Symptom 3'].unique()\n",
        "print(\"Unique values in the column:\", unique_values)\n",
        "print(\"Number of unique values are \",len(unique_values))"
      ],
      "metadata": {
        "colab": {
          "base_uri": "https://localhost:8080/"
        },
        "id": "hK9ww88s90wb",
        "outputId": "a11d71ae-32aa-4ca4-ca19-2be13ff89d3b"
      },
      "execution_count": null,
      "outputs": [
        {
          "output_type": "stream",
          "name": "stdout",
          "text": [
            "Unique values in the column: ['worn-down fillings or crowns' 'a cracked tooth' 'gum disease'\n",
            " 'Pain when you bite down' 'Holes or pits in your teeth'\n",
            " 'Black, white, or brown tooth stains' 'Grooves on your teeth’s surface'\n",
            " 'Cracked or chipped teeth' 'Yellowish discoloration' 'sore throat' 'pain'\n",
            " 'bleeding' 'Difficulty chewing or swallowing' 'Dramatic weight loss'\n",
            " 'Ear Pain' 'Red and swollen gums' 'Painful chewing'\n",
            " 'Tender or bleeding gums' 'Bad breath']\n",
            "Number of unique values are  19\n"
          ]
        }
      ]
    },
    {
      "cell_type": "code",
      "source": [
        "df.groupby('Symptom 3').size().plot(kind='barh', color=sns.palettes.mpl_palette('Dark2'))\n",
        "plt.gca().spines[['top', 'right',]].set_visible(False)"
      ],
      "metadata": {
        "colab": {
          "base_uri": "https://localhost:8080/",
          "height": 430
        },
        "id": "PRx1cpILECr7",
        "outputId": "de5e3b12-9e6d-452f-aa5e-ef251b5183cb"
      },
      "execution_count": null,
      "outputs": [
        {
          "output_type": "display_data",
          "data": {
            "text/plain": [
              "<Figure size 640x480 with 1 Axes>"
            ],
            "image/png": "[encoded data removed]"
          },
          "metadata": {}
        }
      ]
    },
    {
      "cell_type": "code",
      "source": [
        "unique_values = df['Disease'].unique()\n",
        "print(\"Unique values in the column:\", unique_values)\n",
        "print(\"Number of unique values are \",len(unique_values))"
      ],
      "metadata": {
        "colab": {
          "base_uri": "https://localhost:8080/"
        },
        "id": "Cx05pwX995yP",
        "outputId": "4ec56925-a6be-4d44-aae2-9a4c5624c4d8"
      },
      "execution_count": null,
      "outputs": [
        {
          "output_type": "stream",
          "name": "stdout",
          "text": [
            "Unique values in the column: ['dentin hypersensitivity' 'cavity' 'Tooth Erosion' 'Mouth Sores'\n",
            " 'Oral Cancer' 'Periodontitis']\n",
            "Number of unique values are  6\n"
          ]
        }
      ]
    },
    {
      "source": [
        "# @title Disease\n",
        "\n",
        "from matplotlib import pyplot as plt\n",
        "import seaborn as sns\n",
        "df.groupby('Disease').size().plot(kind='barh', color=sns.palettes.mpl_palette('Dark2'))\n",
        "plt.gca().spines[['top', 'right',]].set_visible(False)"
      ],
      "cell_type": "code",
      "execution_count": null,
      "outputs": [
        {
          "output_type": "display_data",
          "data": {
            "text/plain": [
              "<Figure size 640x480 with 1 Axes>"
            ],
            "image/png": "[encoded data removed]"
          },
          "metadata": {}
        }
      ],
      "metadata": {
        "colab": {
          "base_uri": "https://localhost:8080/",
          "height": 430
        },
        "id": "_L-X6ZLX6BH0",
        "outputId": "f9e9f85b-c92f-41e7-cd42-a8fc8701737d"
      }
    },
    {
      "cell_type": "code",
      "source": [
        "unique_values = df['Treatment'].unique()\n",
        "print(\"Unique values in the column:\", unique_values)\n",
        "print(\"Number of unique values are \",len(unique_values))"
      ],
      "metadata": {
        "colab": {
          "base_uri": "https://localhost:8080/"
        },
        "id": "TQrEvVAG-A7y",
        "outputId": "b1ae7ec1-9727-4016-910c-4b5125c5fc6f"
      },
      "execution_count": null,
      "outputs": [
        {
          "output_type": "stream",
          "name": "stdout",
          "text": [
            "Unique values in the column: ['mouthwash' 'Brush your teeth with warm water' 'Chew sugar-free gum'\n",
            " 'Cryotherapy' 'Eat a well balanced diet' 'Tooth polishing']\n",
            "Number of unique values are  6\n"
          ]
        }
      ]
    },
    {
      "source": [
        "# @title Treatment\n",
        "\n",
        "from matplotlib import pyplot as plt\n",
        "import seaborn as sns\n",
        "df.groupby('Treatment').size().plot(kind='barh', color=sns.palettes.mpl_palette('Dark2'))\n",
        "plt.gca().spines[['top', 'right',]].set_visible(False)"
      ],
      "cell_type": "code",
      "execution_count": null,
      "outputs": [
        {
          "output_type": "display_data",
          "data": {
            "text/plain": [
              "<Figure size 640x480 with 1 Axes>"
            ],
            "image/png": "[encoded data removed]"
          },
          "metadata": {}
        }
      ],
      "metadata": {
        "colab": {
          "base_uri": "https://localhost:8080/",
          "height": 430
        },
        "id": "qj9ThvtN6G0X",
        "outputId": "de10c2e5-085e-4697-96e7-e6c6a7806c14"
      }
    },
    {
      "source": [
        "# @title Disease vs Treatment\n",
        "\n",
        "from matplotlib import pyplot as plt\n",
        "import seaborn as sns\n",
        "import pandas as pd\n",
        "plt.subplots(figsize=(8, 8))\n",
        "df_2dhist = pd.DataFrame({\n",
        "    x_label: grp['Treatment'].value_counts()\n",
        "    for x_label, grp in df.groupby('Disease')\n",
        "})\n",
        "sns.heatmap(df_2dhist, cmap='viridis')\n",
        "plt.xlabel('Disease')\n",
        "_ = plt.ylabel('Treatment')"
      ],
      "cell_type": "code",
      "execution_count": null,
      "outputs": [
        {
          "output_type": "display_data",
          "data": {
            "text/plain": [
              "<Figure size 800x800 with 2 Axes>"
            ],
            "image/png": "[encoded data removed]"
          },
          "metadata": {}
        }
      ],
      "metadata": {
        "colab": {
          "base_uri": "https://localhost:8080/",
          "height": 847
        },
        "id": "Ge8Chp8b6OMm",
        "outputId": "e9198008-8181-42e6-e249-633f811fb4b4"
      }
    },
    {
      "cell_type": "code",
      "source": [
        "  from sklearn.model_selection import train_test_split\n",
        "\n",
        "  # Disease Detection Dataset\n",
        "  X_disease = df[['Symptom 1', 'Symptom 2', 'Symptom 3']]\n",
        "  y_disease = df['Disease']\n",
        "\n",
        "  # Precautions Dataset based on Symptoms\n",
        "  X_symptom_precaution = df[['Symptom 1', 'Symptom 2', 'Symptom 3']]\n",
        "  y_symptom_precaution = df['Treatment']  # Assuming 'Treatment' column contains precautions based on symptoms\n",
        "\n",
        "  # Precautions Dataset based on Diseases\n",
        "  X_disease_precaution = df['Disease']\n",
        "  y_disease_precaution = df['Treatment']  # Assuming 'Treatment' column contains precautions based on diseases\n",
        "\n",
        "  # Split the datasets into training and testing sets\n",
        "  # For Disease Detection Dataset\n",
        "  X_train_disease, X_test_disease, y_train_disease, y_test_disease = train_test_split(X_disease, y_disease, test_size=0.2, random_state=42)\n",
        "\n",
        "  # For Precautions Dataset based on Symptoms\n",
        "  X_train_symptom_precaution, X_test_symptom_precaution, y_train_symptom_precaution, y_test_symptom_precaution = train_test_split(X_symptom_precaution, y_symptom_precaution, test_size=0.2, random_state=42)\n",
        "\n",
        "  # For Precautions Dataset based on Diseases\n",
        "  X_train_disease_precaution, X_test_disease_precaution, y_train_disease_precaution, y_test_disease_precaution = train_test_split(X_disease_precaution, y_disease_precaution, test_size=0.2, random_state=42)\n"
      ],
      "metadata": {
        "id": "hTpkVKvLDS-Q"
      },
      "execution_count": null,
      "outputs": []
    },
    {
      "cell_type": "code",
      "source": [
        "X_train_disease_precaution.head()"
      ],
      "metadata": {
        "colab": {
          "base_uri": "https://localhost:8080/"
        },
        "id": "ftIfIl6QhPTs",
        "outputId": "6debe4ff-c7b3-4f9a-e617-268f2b80a5c7"
      },
      "execution_count": null,
      "outputs": [
        {
          "output_type": "execute_result",
          "data": {
            "text/plain": [
              "8                      cavity\n",
              "26                Oral Cancer\n",
              "6                      cavity\n",
              "34              Periodontitis\n",
              "4     dentin hypersensitivity\n",
              "Name: Disease, dtype: object"
            ]
          },
          "metadata": {},
          "execution_count": 28
        }
      ]
    },
    {
      "cell_type": "code",
      "source": [
        "X_train_symptom_precaution.head()"
      ],
      "metadata": {
        "colab": {
          "base_uri": "https://localhost:8080/",
          "height": 206
        },
        "id": "qXy6xIHAhI1T",
        "outputId": "923ff1d4-d90c-460a-bd4a-c332ba8810ad"
      },
      "execution_count": null,
      "outputs": [
        {
          "output_type": "execute_result",
          "data": {
            "text/plain": [
              "                              Symptom 1                            Symptom 2  \\\n",
              "8           Holes or pits in your teeth  Black, white, or brown tooth stains   \n",
              "26                 Dramatic weight loss                             Ear Pain   \n",
              "6   Black, white, or brown tooth stains          Holes or pits in your teeth   \n",
              "34                           Bad breath              Tender or bleeding gums   \n",
              "4          worn-down fillings or crowns                          gum disease   \n",
              "\n",
              "                           Symptom 3  \n",
              "8            Pain when you bite down  \n",
              "26  Difficulty chewing or swallowing  \n",
              "6            Pain when you bite down  \n",
              "34              Red and swollen gums  \n",
              "4                    a cracked tooth  "
            ],
            "text/html": [
              "\n",
              "  <div id=\"df-e3eb3769-0352-4f80-8c0c-57187cf3c8f0\" class=\"colab-df-container\">\n",
              "    <div>\n",
              "<style scoped>\n",
              "    .dataframe tbody tr th:only-of-type {\n",
              "        vertical-align: middle;\n",
              "    }\n",
              "\n",
              "    .dataframe tbody tr th {\n",
              "        vertical-align: top;\n",
              "    }\n",
              "\n",
              "    .dataframe thead th {\n",
              "        text-align: right;\n",
              "    }\n",
              "</style>\n",
              "<table border=\"1\" class=\"dataframe\">\n",
              "  <thead>\n",
              "    <tr style=\"text-align: right;\">\n",
              "      <th></th>\n",
              "      <th>Symptom 1</th>\n",
              "      <th>Symptom 2</th>\n",
              "      <th>Symptom 3</th>\n",
              "    </tr>\n",
              "  </thead>\n",
              "  <tbody>\n",
              "    <tr>\n",
              "      <th>8</th>\n",
              "      <td>Holes or pits in your teeth</td>\n",
              "      <td>Black, white, or brown tooth stains</td>\n",
              "      <td>Pain when you bite down</td>\n",
              "    </tr>\n",
              "    <tr>\n",
              "      <th>26</th>\n",
              "      <td>Dramatic weight loss</td>\n",
              "      <td>Ear Pain</td>\n",
              "      <td>Difficulty chewing or swallowing</td>\n",
              "    </tr>\n",
              "    <tr>\n",
              "      <th>6</th>\n",
              "      <td>Black, white, or brown tooth stains</td>\n",
              "      <td>Holes or pits in your teeth</td>\n",
              "      <td>Pain when you bite down</td>\n",
              "    </tr>\n",
              "    <tr>\n",
              "      <th>34</th>\n",
              "      <td>Bad breath</td>\n",
              "      <td>Tender or bleeding gums</td>\n",
              "      <td>Red and swollen gums</td>\n",
              "    </tr>\n",
              "    <tr>\n",
              "      <th>4</th>\n",
              "      <td>worn-down fillings or crowns</td>\n",
              "      <td>gum disease</td>\n",
              "      <td>a cracked tooth</td>\n",
              "    </tr>\n",
              "  </tbody>\n",
              "</table>\n",
              "</div>\n",
              "    <div class=\"colab-df-buttons\">\n",
              "\n",
              "  <div class=\"colab-df-container\">\n",
              "    <button class=\"colab-df-convert\" onclick=\"convertToInteractive('df-e3eb3769-0352-4f80-8c0c-57187cf3c8f0')\"\n",
              "            title=\"Convert this dataframe to an interactive table.\"\n",
              "            style=\"display:none;\">\n",
              "\n",
              "  <svg xmlns=\"http://www.w3.org/2000/svg\" height=\"24px\" viewBox=\"0 -960 960 960\">\n",
              "    <path d=\"M120-120v-720h720v720H120Zm60-500h600v-160H180v160Zm220 220h160v-160H400v160Zm0 220h160v-160H400v160ZM180-400h160v-160H180v160Zm440 0h160v-160H620v160ZM180-180h160v-160H180v160Zm440 0h160v-160H620v160Z\"/>\n",
              "  </svg>\n",
              "    </button>\n",
              "\n",
              "  <style>\n",
              "    .colab-df-container {\n",
              "      display:flex;\n",
              "      gap: 12px;\n",
              "    }\n",
              "\n",
              "    .colab-df-convert {\n",
              "      background-color: #E8F0FE;\n",
              "      border: none;\n",
              "      border-radius: 50%;\n",
              "      cursor: pointer;\n",
              "      display: none;\n",
              "      fill: #1967D2;\n",
              "      height: 32px;\n",
              "      padding: 0 0 0 0;\n",
              "      width: 32px;\n",
              "    }\n",
              "\n",
              "    .colab-df-convert:hover {\n",
              "      background-color: #E2EBFA;\n",
              "      box-shadow: 0px 1px 2px rgba(60, 64, 67, 0.3), 0px 1px 3px 1px rgba(60, 64, 67, 0.15);\n",
              "      fill: #174EA6;\n",
              "    }\n",
              "\n",
              "    .colab-df-buttons div {\n",
              "      margin-bottom: 4px;\n",
              "    }\n",
              "\n",
              "    [theme=dark] .colab-df-convert {\n",
              "      background-color: #3B4455;\n",
              "      fill: #D2E3FC;\n",
              "    }\n",
              "\n",
              "    [theme=dark] .colab-df-convert:hover {\n",
              "      background-color: #434B5C;\n",
              "      box-shadow: 0px 1px 3px 1px rgba(0, 0, 0, 0.15);\n",
              "      filter: drop-shadow(0px 1px 2px rgba(0, 0, 0, 0.3));\n",
              "      fill: #FFFFFF;\n",
              "    }\n",
              "  </style>\n",
              "\n",
              "    <script>\n",
              "      const buttonEl =\n",
              "        document.querySelector('#df-e3eb3769-0352-4f80-8c0c-57187cf3c8f0 button.colab-df-convert');\n",
              "      buttonEl.style.display =\n",
              "        google.colab.kernel.accessAllowed ? 'block' : 'none';\n",
              "\n",
              "      async function convertToInteractive(key) {\n",
              "        const element = document.querySelector('#df-e3eb3769-0352-4f80-8c0c-57187cf3c8f0');\n",
              "        const dataTable =\n",
              "          await google.colab.kernel.invokeFunction('convertToInteractive',\n",
              "                                                    [key], {});\n",
              "        if (!dataTable) return;\n",
              "\n",
              "        const docLinkHtml = 'Like what you see? Visit the ' +\n",
              "          '<a target=\"_blank\" href=https://colab.research.google.com/notebooks/data_table.ipynb>data table notebook</a>'\n",
              "          + ' to learn more about interactive tables.';\n",
              "        element.innerHTML = '';\n",
              "        dataTable['output_type'] = 'display_data';\n",
              "        await google.colab.output.renderOutput(dataTable, element);\n",
              "        const docLink = document.createElement('div');\n",
              "        docLink.innerHTML = docLinkHtml;\n",
              "        element.appendChild(docLink);\n",
              "      }\n",
              "    </script>\n",
              "  </div>\n",
              "\n",
              "\n",
              "<div id=\"df-d8499674-381d-4f1f-8593-46827763be7d\">\n",
              "  <button class=\"colab-df-quickchart\" onclick=\"quickchart('df-d8499674-381d-4f1f-8593-46827763be7d')\"\n",
              "            title=\"Suggest charts\"\n",
              "            style=\"display:none;\">\n",
              "\n",
              "<svg xmlns=\"http://www.w3.org/2000/svg\" height=\"24px\"viewBox=\"0 0 24 24\"\n",
              "     width=\"24px\">\n",
              "    <g>\n",
              "        <path d=\"M19 3H5c-1.1 0-2 .9-2 2v14c0 1.1.9 2 2 2h14c1.1 0 2-.9 2-2V5c0-1.1-.9-2-2-2zM9 17H7v-7h2v7zm4 0h-2V7h2v10zm4 0h-2v-4h2v4z\"/>\n",
              "    </g>\n",
              "</svg>\n",
              "  </button>\n",
              "\n",
              "<style>\n",
              "  .colab-df-quickchart {\n",
              "      --bg-color: #E8F0FE;\n",
              "      --fill-color: #1967D2;\n",
              "      --hover-bg-color: #E2EBFA;\n",
              "      --hover-fill-color: #174EA6;\n",
              "      --disabled-fill-color: #AAA;\n",
              "      --disabled-bg-color: #DDD;\n",
              "  }\n",
              "\n",
              "  [theme=dark] .colab-df-quickchart {\n",
              "      --bg-color: #3B4455;\n",
              "      --fill-color: #D2E3FC;\n",
              "      --hover-bg-color: #434B5C;\n",
              "      --hover-fill-color: #FFFFFF;\n",
              "      --disabled-bg-color: #3B4455;\n",
              "      --disabled-fill-color: #666;\n",
              "  }\n",
              "\n",
              "  .colab-df-quickchart {\n",
              "    background-color: var(--bg-color);\n",
              "    border: none;\n",
              "    border-radius: 50%;\n",
              "    cursor: pointer;\n",
              "    display: none;\n",
              "    fill: var(--fill-color);\n",
              "    height: 32px;\n",
              "    padding: 0;\n",
              "    width: 32px;\n",
              "  }\n",
              "\n",
              "  .colab-df-quickchart:hover {\n",
              "    background-color: var(--hover-bg-color);\n",
              "    box-shadow: 0 1px 2px rgba(60, 64, 67, 0.3), 0 1px 3px 1px rgba(60, 64, 67, 0.15);\n",
              "    fill: var(--button-hover-fill-color);\n",
              "  }\n",
              "\n",
              "  .colab-df-quickchart-complete:disabled,\n",
              "  .colab-df-quickchart-complete:disabled:hover {\n",
              "    background-color: var(--disabled-bg-color);\n",
              "    fill: var(--disabled-fill-color);\n",
              "    box-shadow: none;\n",
              "  }\n",
              "\n",
              "  .colab-df-spinner {\n",
              "    border: 2px solid var(--fill-color);\n",
              "    border-color: transparent;\n",
              "    border-bottom-color: var(--fill-color);\n",
              "    animation:\n",
              "      spin 1s steps(1) infinite;\n",
              "  }\n",
              "\n",
              "  @keyframes spin {\n",
              "    0% {\n",
              "      border-color: transparent;\n",
              "      border-bottom-color: var(--fill-color);\n",
              "      border-left-color: var(--fill-color);\n",
              "    }\n",
              "    20% {\n",
              "      border-color: transparent;\n",
              "      border-left-color: var(--fill-color);\n",
              "      border-top-color: var(--fill-color);\n",
              "    }\n",
              "    30% {\n",
              "      border-color: transparent;\n",
              "      border-left-color: var(--fill-color);\n",
              "      border-top-color: var(--fill-color);\n",
              "      border-right-color: var(--fill-color);\n",
              "    }\n",
              "    40% {\n",
              "      border-color: transparent;\n",
              "      border-right-color: var(--fill-color);\n",
              "      border-top-color: var(--fill-color);\n",
              "    }\n",
              "    60% {\n",
              "      border-color: transparent;\n",
              "      border-right-color: var(--fill-color);\n",
              "    }\n",
              "    80% {\n",
              "      border-color: transparent;\n",
              "      border-right-color: var(--fill-color);\n",
              "      border-bottom-color: var(--fill-color);\n",
              "    }\n",
              "    90% {\n",
              "      border-color: transparent;\n",
              "      border-bottom-color: var(--fill-color);\n",
              "    }\n",
              "  }\n",
              "</style>\n",
              "\n",
              "  <script>\n",
              "    async function quickchart(key) {\n",
              "      const quickchartButtonEl =\n",
              "        document.querySelector('#' + key + ' button');\n",
              "      quickchartButtonEl.disabled = true;  // To prevent multiple clicks.\n",
              "      quickchartButtonEl.classList.add('colab-df-spinner');\n",
              "      try {\n",
              "        const charts = await google.colab.kernel.invokeFunction(\n",
              "            'suggestCharts', [key], {});\n",
              "      } catch (error) {\n",
              "        console.error('Error during call to suggestCharts:', error);\n",
              "      }\n",
              "      quickchartButtonEl.classList.remove('colab-df-spinner');\n",
              "      quickchartButtonEl.classList.add('colab-df-quickchart-complete');\n",
              "    }\n",
              "    (() => {\n",
              "      let quickchartButtonEl =\n",
              "        document.querySelector('#df-d8499674-381d-4f1f-8593-46827763be7d button');\n",
              "      quickchartButtonEl.style.display =\n",
              "        google.colab.kernel.accessAllowed ? 'block' : 'none';\n",
              "    })();\n",
              "  </script>\n",
              "</div>\n",
              "\n",
              "    </div>\n",
              "  </div>\n"
            ],
            "application/vnd.google.colaboratory.intrinsic+json": {
              "type": "dataframe",
              "variable_name": "X_train_symptom_precaution",
              "summary": "{\n  \"name\": \"X_train_symptom_precaution\",\n  \"rows\": 43,\n  \"fields\": [\n    {\n      \"column\": \"Symptom 1\",\n      \"properties\": {\n        \"dtype\": \"category\",\n        \"num_unique_values\": 18,\n        \"samples\": [\n          \"Holes or pits in your teeth\",\n          \"Dramatic weight loss\",\n          \"Tender or bleeding gums\"\n        ],\n        \"semantic_type\": \"\",\n        \"description\": \"\"\n      }\n    },\n    {\n      \"column\": \"Symptom 2\",\n      \"properties\": {\n        \"dtype\": \"category\",\n        \"num_unique_values\": 18,\n        \"samples\": [\n          \"Black, white, or brown tooth stains\",\n          \"Ear Pain\",\n          \"Pain when you bite down\"\n        ],\n        \"semantic_type\": \"\",\n        \"description\": \"\"\n      }\n    },\n    {\n      \"column\": \"Symptom 3\",\n      \"properties\": {\n        \"dtype\": \"category\",\n        \"num_unique_values\": 18,\n        \"samples\": [\n          \"Pain when you bite down\",\n          \"Difficulty chewing or swallowing\",\n          \"Cracked or chipped teeth\"\n        ],\n        \"semantic_type\": \"\",\n        \"description\": \"\"\n      }\n    }\n  ]\n}"
            }
          },
          "metadata": {},
          "execution_count": 29
        }
      ]
    },
    {
      "cell_type": "code",
      "source": [
        "X_train_disease.head()"
      ],
      "metadata": {
        "colab": {
          "base_uri": "https://localhost:8080/",
          "height": 206
        },
        "id": "W8SoKV3TPort",
        "outputId": "167ab91d-b08f-4fb4-89d8-1326ddea307c"
      },
      "execution_count": null,
      "outputs": [
        {
          "output_type": "execute_result",
          "data": {
            "text/plain": [
              "                              Symptom 1                            Symptom 2  \\\n",
              "8           Holes or pits in your teeth  Black, white, or brown tooth stains   \n",
              "26                 Dramatic weight loss                             Ear Pain   \n",
              "6   Black, white, or brown tooth stains          Holes or pits in your teeth   \n",
              "34                           Bad breath              Tender or bleeding gums   \n",
              "4          worn-down fillings or crowns                          gum disease   \n",
              "\n",
              "                           Symptom 3  \n",
              "8            Pain when you bite down  \n",
              "26  Difficulty chewing or swallowing  \n",
              "6            Pain when you bite down  \n",
              "34              Red and swollen gums  \n",
              "4                    a cracked tooth  "
            ],
            "text/html": [
              "\n",
              "  <div id=\"df-071c5a23-b213-4de8-ad72-230aff1acf12\" class=\"colab-df-container\">\n",
              "    <div>\n",
              "<style scoped>\n",
              "    .dataframe tbody tr th:only-of-type {\n",
              "        vertical-align: middle;\n",
              "    }\n",
              "\n",
              "    .dataframe tbody tr th {\n",
              "        vertical-align: top;\n",
              "    }\n",
              "\n",
              "    .dataframe thead th {\n",
              "        text-align: right;\n",
              "    }\n",
              "</style>\n",
              "<table border=\"1\" class=\"dataframe\">\n",
              "  <thead>\n",
              "    <tr style=\"text-align: right;\">\n",
              "      <th></th>\n",
              "      <th>Symptom 1</th>\n",
              "      <th>Symptom 2</th>\n",
              "      <th>Symptom 3</th>\n",
              "    </tr>\n",
              "  </thead>\n",
              "  <tbody>\n",
              "    <tr>\n",
              "      <th>8</th>\n",
              "      <td>Holes or pits in your teeth</td>\n",
              "      <td>Black, white, or brown tooth stains</td>\n",
              "      <td>Pain when you bite down</td>\n",
              "    </tr>\n",
              "    <tr>\n",
              "      <th>26</th>\n",
              "      <td>Dramatic weight loss</td>\n",
              "      <td>Ear Pain</td>\n",
              "      <td>Difficulty chewing or swallowing</td>\n",
              "    </tr>\n",
              "    <tr>\n",
              "      <th>6</th>\n",
              "      <td>Black, white, or brown tooth stains</td>\n",
              "      <td>Holes or pits in your teeth</td>\n",
              "      <td>Pain when you bite down</td>\n",
              "    </tr>\n",
              "    <tr>\n",
              "      <th>34</th>\n",
              "      <td>Bad breath</td>\n",
              "      <td>Tender or bleeding gums</td>\n",
              "      <td>Red and swollen gums</td>\n",
              "    </tr>\n",
              "    <tr>\n",
              "      <th>4</th>\n",
              "      <td>worn-down fillings or crowns</td>\n",
              "      <td>gum disease</td>\n",
              "      <td>a cracked tooth</td>\n",
              "    </tr>\n",
              "  </tbody>\n",
              "</table>\n",
              "</div>\n",
              "    <div class=\"colab-df-buttons\">\n",
              "\n",
              "  <div class=\"colab-df-container\">\n",
              "    <button class=\"colab-df-convert\" onclick=\"convertToInteractive('df-071c5a23-b213-4de8-ad72-230aff1acf12')\"\n",
              "            title=\"Convert this dataframe to an interactive table.\"\n",
              "            style=\"display:none;\">\n",
              "\n",
              "  <svg xmlns=\"http://www.w3.org/2000/svg\" height=\"24px\" viewBox=\"0 -960 960 960\">\n",
              "    <path d=\"M120-120v-720h720v720H120Zm60-500h600v-160H180v160Zm220 220h160v-160H400v160Zm0 220h160v-160H400v160ZM180-400h160v-160H180v160Zm440 0h160v-160H620v160ZM180-180h160v-160H180v160Zm440 0h160v-160H620v160Z\"/>\n",
              "  </svg>\n",
              "    </button>\n",
              "\n",
              "  <style>\n",
              "    .colab-df-container {\n",
              "      display:flex;\n",
              "      gap: 12px;\n",
              "    }\n",
              "\n",
              "    .colab-df-convert {\n",
              "      background-color: #E8F0FE;\n",
              "      border: none;\n",
              "      border-radius: 50%;\n",
              "      cursor: pointer;\n",
              "      display: none;\n",
              "      fill: #1967D2;\n",
              "      height: 32px;\n",
              "      padding: 0 0 0 0;\n",
              "      width: 32px;\n",
              "    }\n",
              "\n",
              "    .colab-df-convert:hover {\n",
              "      background-color: #E2EBFA;\n",
              "      box-shadow: 0px 1px 2px rgba(60, 64, 67, 0.3), 0px 1px 3px 1px rgba(60, 64, 67, 0.15);\n",
              "      fill: #174EA6;\n",
              "    }\n",
              "\n",
              "    .colab-df-buttons div {\n",
              "      margin-bottom: 4px;\n",
              "    }\n",
              "\n",
              "    [theme=dark] .colab-df-convert {\n",
              "      background-color: #3B4455;\n",
              "      fill: #D2E3FC;\n",
              "    }\n",
              "\n",
              "    [theme=dark] .colab-df-convert:hover {\n",
              "      background-color: #434B5C;\n",
              "      box-shadow: 0px 1px 3px 1px rgba(0, 0, 0, 0.15);\n",
              "      filter: drop-shadow(0px 1px 2px rgba(0, 0, 0, 0.3));\n",
              "      fill: #FFFFFF;\n",
              "    }\n",
              "  </style>\n",
              "\n",
              "    <script>\n",
              "      const buttonEl =\n",
              "        document.querySelector('#df-071c5a23-b213-4de8-ad72-230aff1acf12 button.colab-df-convert');\n",
              "      buttonEl.style.display =\n",
              "        google.colab.kernel.accessAllowed ? 'block' : 'none';\n",
              "\n",
              "      async function convertToInteractive(key) {\n",
              "        const element = document.querySelector('#df-071c5a23-b213-4de8-ad72-230aff1acf12');\n",
              "        const dataTable =\n",
              "          await google.colab.kernel.invokeFunction('convertToInteractive',\n",
              "                                                    [key], {});\n",
              "        if (!dataTable) return;\n",
              "\n",
              "        const docLinkHtml = 'Like what you see? Visit the ' +\n",
              "          '<a target=\"_blank\" href=https://colab.research.google.com/notebooks/data_table.ipynb>data table notebook</a>'\n",
              "          + ' to learn more about interactive tables.';\n",
              "        element.innerHTML = '';\n",
              "        dataTable['output_type'] = 'display_data';\n",
              "        await google.colab.output.renderOutput(dataTable, element);\n",
              "        const docLink = document.createElement('div');\n",
              "        docLink.innerHTML = docLinkHtml;\n",
              "        element.appendChild(docLink);\n",
              "      }\n",
              "    </script>\n",
              "  </div>\n",
              "\n",
              "\n",
              "<div id=\"df-b8494cd2-7719-4284-aacc-ab06a28c2bc7\">\n",
              "  <button class=\"colab-df-quickchart\" onclick=\"quickchart('df-b8494cd2-7719-4284-aacc-ab06a28c2bc7')\"\n",
              "            title=\"Suggest charts\"\n",
              "            style=\"display:none;\">\n",
              "\n",
              "<svg xmlns=\"http://www.w3.org/2000/svg\" height=\"24px\"viewBox=\"0 0 24 24\"\n",
              "     width=\"24px\">\n",
              "    <g>\n",
              "        <path d=\"M19 3H5c-1.1 0-2 .9-2 2v14c0 1.1.9 2 2 2h14c1.1 0 2-.9 2-2V5c0-1.1-.9-2-2-2zM9 17H7v-7h2v7zm4 0h-2V7h2v10zm4 0h-2v-4h2v4z\"/>\n",
              "    </g>\n",
              "</svg>\n",
              "  </button>\n",
              "\n",
              "<style>\n",
              "  .colab-df-quickchart {\n",
              "      --bg-color: #E8F0FE;\n",
              "      --fill-color: #1967D2;\n",
              "      --hover-bg-color: #E2EBFA;\n",
              "      --hover-fill-color: #174EA6;\n",
              "      --disabled-fill-color: #AAA;\n",
              "      --disabled-bg-color: #DDD;\n",
              "  }\n",
              "\n",
              "  [theme=dark] .colab-df-quickchart {\n",
              "      --bg-color: #3B4455;\n",
              "      --fill-color: #D2E3FC;\n",
              "      --hover-bg-color: #434B5C;\n",
              "      --hover-fill-color: #FFFFFF;\n",
              "      --disabled-bg-color: #3B4455;\n",
              "      --disabled-fill-color: #666;\n",
              "  }\n",
              "\n",
              "  .colab-df-quickchart {\n",
              "    background-color: var(--bg-color);\n",
              "    border: none;\n",
              "    border-radius: 50%;\n",
              "    cursor: pointer;\n",
              "    display: none;\n",
              "    fill: var(--fill-color);\n",
              "    height: 32px;\n",
              "    padding: 0;\n",
              "    width: 32px;\n",
              "  }\n",
              "\n",
              "  .colab-df-quickchart:hover {\n",
              "    background-color: var(--hover-bg-color);\n",
              "    box-shadow: 0 1px 2px rgba(60, 64, 67, 0.3), 0 1px 3px 1px rgba(60, 64, 67, 0.15);\n",
              "    fill: var(--button-hover-fill-color);\n",
              "  }\n",
              "\n",
              "  .colab-df-quickchart-complete:disabled,\n",
              "  .colab-df-quickchart-complete:disabled:hover {\n",
              "    background-color: var(--disabled-bg-color);\n",
              "    fill: var(--disabled-fill-color);\n",
              "    box-shadow: none;\n",
              "  }\n",
              "\n",
              "  .colab-df-spinner {\n",
              "    border: 2px solid var(--fill-color);\n",
              "    border-color: transparent;\n",
              "    border-bottom-color: var(--fill-color);\n",
              "    animation:\n",
              "      spin 1s steps(1) infinite;\n",
              "  }\n",
              "\n",
              "  @keyframes spin {\n",
              "    0% {\n",
              "      border-color: transparent;\n",
              "      border-bottom-color: var(--fill-color);\n",
              "      border-left-color: var(--fill-color);\n",
              "    }\n",
              "    20% {\n",
              "      border-color: transparent;\n",
              "      border-left-color: var(--fill-color);\n",
              "      border-top-color: var(--fill-color);\n",
              "    }\n",
              "    30% {\n",
              "      border-color: transparent;\n",
              "      border-left-color: var(--fill-color);\n",
              "      border-top-color: var(--fill-color);\n",
              "      border-right-color: var(--fill-color);\n",
              "    }\n",
              "    40% {\n",
              "      border-color: transparent;\n",
              "      border-right-color: var(--fill-color);\n",
              "      border-top-color: var(--fill-color);\n",
              "    }\n",
              "    60% {\n",
              "      border-color: transparent;\n",
              "      border-right-color: var(--fill-color);\n",
              "    }\n",
              "    80% {\n",
              "      border-color: transparent;\n",
              "      border-right-color: var(--fill-color);\n",
              "      border-bottom-color: var(--fill-color);\n",
              "    }\n",
              "    90% {\n",
              "      border-color: transparent;\n",
              "      border-bottom-color: var(--fill-color);\n",
              "    }\n",
              "  }\n",
              "</style>\n",
              "\n",
              "  <script>\n",
              "    async function quickchart(key) {\n",
              "      const quickchartButtonEl =\n",
              "        document.querySelector('#' + key + ' button');\n",
              "      quickchartButtonEl.disabled = true;  // To prevent multiple clicks.\n",
              "      quickchartButtonEl.classList.add('colab-df-spinner');\n",
              "      try {\n",
              "        const charts = await google.colab.kernel.invokeFunction(\n",
              "            'suggestCharts', [key], {});\n",
              "      } catch (error) {\n",
              "        console.error('Error during call to suggestCharts:', error);\n",
              "      }\n",
              "      quickchartButtonEl.classList.remove('colab-df-spinner');\n",
              "      quickchartButtonEl.classList.add('colab-df-quickchart-complete');\n",
              "    }\n",
              "    (() => {\n",
              "      let quickchartButtonEl =\n",
              "        document.querySelector('#df-b8494cd2-7719-4284-aacc-ab06a28c2bc7 button');\n",
              "      quickchartButtonEl.style.display =\n",
              "        google.colab.kernel.accessAllowed ? 'block' : 'none';\n",
              "    })();\n",
              "  </script>\n",
              "</div>\n",
              "\n",
              "    </div>\n",
              "  </div>\n"
            ],
            "application/vnd.google.colaboratory.intrinsic+json": {
              "type": "dataframe",
              "variable_name": "X_train_disease",
              "summary": "{\n  \"name\": \"X_train_disease\",\n  \"rows\": 43,\n  \"fields\": [\n    {\n      \"column\": \"Symptom 1\",\n      \"properties\": {\n        \"dtype\": \"category\",\n        \"num_unique_values\": 18,\n        \"samples\": [\n          \"Holes or pits in your teeth\",\n          \"Dramatic weight loss\",\n          \"Tender or bleeding gums\"\n        ],\n        \"semantic_type\": \"\",\n        \"description\": \"\"\n      }\n    },\n    {\n      \"column\": \"Symptom 2\",\n      \"properties\": {\n        \"dtype\": \"category\",\n        \"num_unique_values\": 18,\n        \"samples\": [\n          \"Black, white, or brown tooth stains\",\n          \"Ear Pain\",\n          \"Pain when you bite down\"\n        ],\n        \"semantic_type\": \"\",\n        \"description\": \"\"\n      }\n    },\n    {\n      \"column\": \"Symptom 3\",\n      \"properties\": {\n        \"dtype\": \"category\",\n        \"num_unique_values\": 18,\n        \"samples\": [\n          \"Pain when you bite down\",\n          \"Difficulty chewing or swallowing\",\n          \"Cracked or chipped teeth\"\n        ],\n        \"semantic_type\": \"\",\n        \"description\": \"\"\n      }\n    }\n  ]\n}"
            }
          },
          "metadata": {},
          "execution_count": 30
        }
      ]
    },
    {
      "cell_type": "code",
      "source": [
        "from sklearn.preprocessing import LabelEncoder\n",
        "\n",
        "# Initialize LabelEncoder\n",
        "label_encoder = LabelEncoder()\n",
        "\n",
        "# Fit LabelEncoder on y_train and transform both y_train and y_test\n",
        "y_train_encoded = label_encoder.fit_transform(y_train_disease)\n",
        "y_test_encoded = label_encoder.transform(y_test_disease)\n"
      ],
      "metadata": {
        "id": "nRm8UvpNQV9Y"
      },
      "execution_count": null,
      "outputs": []
    },
    {
      "cell_type": "code",
      "source": [
        "from sklearn.preprocessing import OneHotEncoder\n",
        "\n",
        "# Convert categorical features into numerical representations (one-hot encoding)\n",
        "encoder = OneHotEncoder(handle_unknown='ignore')\n",
        "X_train_encoded = encoder.fit_transform(X_train_disease)\n",
        "X_test_encoded = encoder.transform(X_test_disease)"
      ],
      "metadata": {
        "id": "4MO-eHjclslz"
      },
      "execution_count": null,
      "outputs": []
    },
    {
      "cell_type": "markdown",
      "source": [
        "**Symptoms-Disease prediction**"
      ],
      "metadata": {
        "id": "OZ4vta0mdAI9"
      }
    },
    {
      "cell_type": "code",
      "source": [
        "import pandas as pd\n",
        "from sklearn.model_selection import train_test_split\n",
        "from sklearn.preprocessing import LabelEncoder\n",
        "from sklearn.feature_extraction.text import TfidfVectorizer\n",
        "from xgboost import XGBClassifier\n",
        "from sklearn.metrics import accuracy_score\n",
        "\n",
        "# Encode categorical variables\n",
        "label_encoder = LabelEncoder()\n",
        "df['Disease'] = label_encoder.fit_transform(df['Disease'])\n",
        "\n",
        "# Split data into features and labels\n",
        "X = df[['Symptom 1', 'Symptom 2', 'Symptom 3']].apply(lambda x: ' '.join(x), axis=1)\n",
        "y = df['Disease']\n",
        "\n",
        "# Step 2: Feature Engineering\n",
        "# TF-IDF vectorization\n",
        "tfidf_vectorizer = TfidfVectorizer(max_features=5000)  # Adjust max_features as needed\n",
        "X_tfidf = tfidf_vectorizer.fit_transform(X)\n",
        "\n",
        "# Step 3: Train-Test Split\n",
        "X_train, X_test, y_train, y_test = train_test_split(X_tfidf, y, test_size=0.2, random_state=42)\n",
        "\n",
        "# Step 4: Model Training\n",
        "xgb_classifier1 = XGBClassifier()\n",
        "xgb_classifier1.fit(X_train, y_train)\n",
        "\n",
        "# Step 5: Model Evaluation\n",
        "y_pred = xgb_classifier1.predict(X_test)\n",
        "accuracy = accuracy_score(y_test, y_pred)\n",
        "print(\"Accuracy:\", accuracy)"
      ],
      "metadata": {
        "colab": {
          "base_uri": "https://localhost:8080/"
        },
        "id": "L7kABBTB4zzF",
        "outputId": "47b82aac-ab70-4e41-ba1b-546122d2f569"
      },
      "execution_count": null,
      "outputs": [
        {
          "output_type": "stream",
          "name": "stdout",
          "text": [
            "Accuracy: 1.0\n"
          ]
        }
      ]
    },
    {
      "cell_type": "code",
      "source": [
        "list1 = [['Holes or pits in your teeth','Black, white, or brown tooth stains','Pain when you bite down']].apply(lambda x: ' '.join(x), axis=1)\n",
        "pred1 = xgb_classifier1.predict(list1)\n",
        "print(pred1)"
      ],
      "metadata": {
        "id": "4caYMj52D8L5",
        "colab": {
          "base_uri": "https://localhost:8080/",
          "height": 193
        },
        "outputId": "b3edc87f-1da8-45ee-f987-8d873dc20bf1"
      },
      "execution_count": null,
      "outputs": [
        {
          "output_type": "error",
          "ename": "AttributeError",
          "evalue": "'list' object has no attribute 'apply'",
          "traceback": [
            "\u001b[0;31m---------------------------------------------------------------------------\u001b[0m",
            "\u001b[0;31mAttributeError\u001b[0m                            Traceback (most recent call last)",
            "\u001b[0;32m<ipython-input-21-8a8f2a315216>\u001b[0m in \u001b[0;36m<cell line: 1>\u001b[0;34m()\u001b[0m\n\u001b[0;32m----> 1\u001b[0;31m \u001b[0mlist1\u001b[0m \u001b[0;34m=\u001b[0m \u001b[0;34m[\u001b[0m\u001b[0;34m[\u001b[0m\u001b[0;34m'Holes or pits in your teeth'\u001b[0m\u001b[0;34m,\u001b[0m\u001b[0;34m'Black, white, or brown tooth stains'\u001b[0m\u001b[0;34m,\u001b[0m\u001b[0;34m'Pain when you bite down'\u001b[0m\u001b[0;34m]\u001b[0m\u001b[0;34m]\u001b[0m\u001b[0;34m.\u001b[0m\u001b[0mapply\u001b[0m\u001b[0;34m(\u001b[0m\u001b[0;32mlambda\u001b[0m \u001b[0mx\u001b[0m\u001b[0;34m:\u001b[0m \u001b[0;34m' '\u001b[0m\u001b[0;34m.\u001b[0m\u001b[0mjoin\u001b[0m\u001b[0;34m(\u001b[0m\u001b[0mx\u001b[0m\u001b[0;34m)\u001b[0m\u001b[0;34m,\u001b[0m \u001b[0maxis\u001b[0m\u001b[0;34m=\u001b[0m\u001b[0;36m1\u001b[0m\u001b[0;34m)\u001b[0m\u001b[0;34m\u001b[0m\u001b[0;34m\u001b[0m\u001b[0m\n\u001b[0m\u001b[1;32m      2\u001b[0m \u001b[0mpred1\u001b[0m \u001b[0;34m=\u001b[0m \u001b[0mxgb_classifier1\u001b[0m\u001b[0;34m.\u001b[0m\u001b[0mpredict\u001b[0m\u001b[0;34m(\u001b[0m\u001b[0mlist1\u001b[0m\u001b[0;34m)\u001b[0m\u001b[0;34m\u001b[0m\u001b[0;34m\u001b[0m\u001b[0m\n\u001b[1;32m      3\u001b[0m \u001b[0mprint\u001b[0m\u001b[0;34m(\u001b[0m\u001b[0mpred1\u001b[0m\u001b[0;34m)\u001b[0m\u001b[0;34m\u001b[0m\u001b[0;34m\u001b[0m\u001b[0m\n",
            "\u001b[0;31mAttributeError\u001b[0m: 'list' object has no attribute 'apply'"
          ]
        }
      ]
    },
    {
      "cell_type": "markdown",
      "source": [
        "**Testing**"
      ],
      "metadata": {
        "id": "_XTa5f6tEzNC"
      }
    },
    {
      "cell_type": "code",
      "source": [
        "# Randomly select a subset of data\n",
        "random_indices = random.sample(range(X_test.shape[0]), 10)  # Select 10 random indices\n",
        "X_subset = X_test[random_indices]\n",
        "y_subset = y_test.iloc[random_indices]\n"
      ],
      "metadata": {
        "id": "0dUy5Szq6nID"
      },
      "execution_count": null,
      "outputs": []
    },
    {
      "cell_type": "markdown",
      "source": [
        "**Randomly checking Output**"
      ],
      "metadata": {
        "id": "SSjeKR4mFEIt"
      }
    },
    {
      "cell_type": "code",
      "source": [
        "# Suppose you have a random input value\n",
        "random_input = ['Yellowish discoloration','Grooves on your teeth’s surface','Cracked or chipped teeth']  # Replace with your random input\n",
        "\n",
        "# Preprocess the input data\n",
        "random_input_str = ' '.join(random_input)\n",
        "random_input_tfidf = tfidf_vectorizer.transform([random_input_str])\n",
        "\n",
        "# Make predictions\n",
        "predicted_treatment = xgb_classifier1.predict(random_input_tfidf)\n",
        "\n",
        "# Decode the predicted treatment\n",
        "predicted_treatment_label = label_encoder.inverse_transform(predicted_treatment)\n",
        "\n",
        "print(\"Predicted Treatment:\", predicted_treatment_label[0])\n"
      ],
      "metadata": {
        "colab": {
          "base_uri": "https://localhost:8080/"
        },
        "id": "nCdPrQyGC34X",
        "outputId": "4e73fed0-5990-4805-c11b-f614fa07c8e5"
      },
      "execution_count": null,
      "outputs": [
        {
          "output_type": "stream",
          "name": "stdout",
          "text": [
            "Predicted Treatment: Tooth Erosion\n"
          ]
        }
      ]
    },
    {
      "cell_type": "markdown",
      "source": [
        "**Saving the model**"
      ],
      "metadata": {
        "id": "9Ni2vYuJE6dZ"
      }
    },
    {
      "cell_type": "code",
      "source": [
        "from xgboost import XGBClassifier\n",
        "\n",
        "# Assuming xgb_classifier is your trained XGBoost model\n",
        "xgb_classifier1.save_model(\"/content/drive/MyDrive/disease_symptoms.json\")\n"
      ],
      "metadata": {
        "id": "SgNJvKrjDG_v"
      },
      "execution_count": null,
      "outputs": []
    },
    {
      "cell_type": "code",
      "source": [
        "import pickle\n",
        "\n",
        "# Assume you have a trained model named 'model'\n",
        "# and you want to save it to a file named 'model.pkl'\n",
        "\n",
        "# Save the model\n",
        "with open('disease_symptoms.pkl', 'wb') as f:\n",
        "    pickle.dump(xgb_classifier1, f)\n",
        "\n",
        "print(\"Model saved successfully.\")"
      ],
      "metadata": {
        "colab": {
          "base_uri": "https://localhost:8080/"
        },
        "id": "r4X-k8QYBt9v",
        "outputId": "ca1c53c2-bda4-4846-d9a3-1a22f82dbafc"
      },
      "execution_count": null,
      "outputs": [
        {
          "output_type": "stream",
          "name": "stdout",
          "text": [
            "Model saved successfully.\n"
          ]
        }
      ]
    },
    {
      "cell_type": "markdown",
      "source": [
        "**Symptoms-Precautions**"
      ],
      "metadata": {
        "id": "CeQ4A1_9dJi1"
      }
    },
    {
      "cell_type": "code",
      "source": [
        "import pandas as pd\n",
        "from sklearn.model_selection import train_test_split\n",
        "from sklearn.preprocessing import LabelEncoder\n",
        "from sklearn.feature_extraction.text import TfidfVectorizer\n",
        "from xgboost import XGBClassifier\n",
        "from sklearn.metrics import accuracy_score\n",
        "\n",
        "# Encode categorical variables\n",
        "label_encoder = LabelEncoder()\n",
        "df['Treatment'] = label_encoder.fit_transform(df['Treatment'])\n",
        "\n",
        "# Split data into features and labels\n",
        "X = df[['Symptom 1', 'Symptom 2', 'Symptom 3']].apply(lambda x: ' '.join(x), axis=1)\n",
        "y = df['Treatment']\n",
        "\n",
        "# Step 2: Feature Engineering\n",
        "# TF-IDF vectorization\n",
        "tfidf_vectorizer = TfidfVectorizer(max_features=5000)  # Adjust max_features as needed\n",
        "X_tfidf = tfidf_vectorizer.fit_transform(X)\n",
        "\n",
        "# Step 3: Train-Test Split\n",
        "X_train, X_test, y_train, y_test = train_test_split(X_tfidf, y, test_size=0.2, random_state=42)\n",
        "\n",
        "# Step 4: Model Training\n",
        "xgb_classifier = XGBClassifier()\n",
        "xgb_classifier.fit(X_train, y_train)\n",
        "\n",
        "# Step 5: Model Evaluation\n",
        "y_pred = xgb_classifier.predict(X_test)\n",
        "accuracy = accuracy_score(y_test, y_pred)\n",
        "print(\"Accuracy:\", accuracy)"
      ],
      "metadata": {
        "id": "jRXL0AWVPOy7",
        "colab": {
          "base_uri": "https://localhost:8080/"
        },
        "outputId": "a2adf372-ac1e-415d-8c23-7a32e8b1326b"
      },
      "execution_count": null,
      "outputs": [
        {
          "output_type": "stream",
          "name": "stdout",
          "text": [
            "Accuracy: 1.0\n"
          ]
        }
      ]
    },
    {
      "cell_type": "markdown",
      "source": [
        "**Testing**"
      ],
      "metadata": {
        "id": "saN4lU3xEaWV"
      }
    },
    {
      "cell_type": "code",
      "source": [
        "# Randomly select a subset of data\n",
        "import random\n",
        "random_indices = random.sample(range(X_test.shape[0]), 10)  # Select 10 random indices\n",
        "X_subset = X_test[random_indices]\n",
        "y_subset = y_test.iloc[random_indices]"
      ],
      "metadata": {
        "id": "iAO7XGGbcFpG"
      },
      "execution_count": null,
      "outputs": []
    },
    {
      "cell_type": "code",
      "source": [
        "# Predict diseases for the subset\n",
        "y_pred_subset = xgb_classifier.predict(X_subset)\n",
        "\n",
        "# Evaluate predictions\n",
        "accuracy_subset = accuracy_score(y_subset, y_pred_subset)\n",
        "print(\"Accuracy on random subset:\", accuracy_subset)"
      ],
      "metadata": {
        "colab": {
          "base_uri": "https://localhost:8080/"
        },
        "id": "zcD9RzvebAWy",
        "outputId": "60d3d8a0-dc6b-4274-e96f-d13766e1f0b4"
      },
      "execution_count": null,
      "outputs": [
        {
          "output_type": "stream",
          "name": "stdout",
          "text": [
            "Accuracy on random subset: 1.0\n"
          ]
        }
      ]
    },
    {
      "cell_type": "markdown",
      "source": [
        "**decoding**"
      ],
      "metadata": {
        "id": "0a81lGPCEnHS"
      }
    },
    {
      "cell_type": "code",
      "source": [
        "# Get all unique encoded values\n",
        "unique_encoded_values = df['Treatment'].unique()  # Assuming 'Treatment' is the column with label encoded values\n",
        "\n",
        "# Create a dictionary to store the mapping of encoded values to decoded labels\n",
        "encoded_to_decoded_mapping = {}\n",
        "\n",
        "# Decode each unique encoded value and store the mapping\n",
        "for encoded_value in unique_encoded_values:\n",
        "    decoded_value = label_encoder.inverse_transform([encoded_value])[0]\n",
        "    encoded_to_decoded_mapping[encoded_value] = decoded_value\n",
        "\n",
        "# Print the mapping\n",
        "print(\"Encoded to Decoded Mapping:\")\n",
        "for encoded_value, decoded_value in encoded_to_decoded_mapping.items():\n",
        "    print(f\"{encoded_value}: {decoded_value}\")\n"
      ],
      "metadata": {
        "colab": {
          "base_uri": "https://localhost:8080/"
        },
        "id": "th7vbRlwBGnX",
        "outputId": "f110ae78-5585-4499-c170-c744a2cdd5ae"
      },
      "execution_count": null,
      "outputs": [
        {
          "output_type": "stream",
          "name": "stdout",
          "text": [
            "Encoded to Decoded Mapping:\n",
            "5: mouthwash\n",
            "0: Brush your teeth with warm water\n",
            "1: Chew sugar-free gum\n",
            "2: Cryotherapy\n",
            "3: Eat a well balanced diet\n",
            "4: Tooth polishing\n"
          ]
        }
      ]
    },
    {
      "cell_type": "markdown",
      "source": [
        "**Randomly checking Output**"
      ],
      "metadata": {
        "id": "_fQU6IgXFBsU"
      }
    },
    {
      "cell_type": "code",
      "source": [
        "# Suppose you have a random input value\n",
        "random_input = ['Yellowish discoloration','Grooves on your teeth’s surface','Cracked or chipped teeth']  # Replace with your random input\n",
        "\n",
        "# Preprocess the input data\n",
        "random_input_str = ' '.join(random_input)\n",
        "random_input_tfidf = tfidf_vectorizer.transform([random_input_str])\n",
        "\n",
        "# Make predictions\n",
        "predicted_treatment = xgb_classifier.predict(random_input_tfidf)\n",
        "\n",
        "# Decode the predicted treatment\n",
        "predicted_treatment_label = label_encoder.inverse_transform(predicted_treatment)\n",
        "\n",
        "print(\"Predicted Treatment:\", predicted_treatment_label[0])\n"
      ],
      "metadata": {
        "colab": {
          "base_uri": "https://localhost:8080/"
        },
        "id": "FPo-R7KtAXGJ",
        "outputId": "2650dbf8-e79c-4592-af13-519cfd21e922"
      },
      "execution_count": null,
      "outputs": [
        {
          "output_type": "stream",
          "name": "stdout",
          "text": [
            "Predicted Treatment: Chew sugar-free gum\n"
          ]
        }
      ]
    },
    {
      "cell_type": "code",
      "source": [
        "# Suppose you have a label encoded value\n",
        "encoded_value = 1\n",
        "\n",
        "# Decode the label encoded value\n",
        "decoded_value = label_encoder.inverse_transform([encoded_value])\n",
        "\n",
        "print(\"Decoded Value:\", decoded_value[0])\n"
      ],
      "metadata": {
        "colab": {
          "base_uri": "https://localhost:8080/"
        },
        "id": "Azj_TvYqAvEH",
        "outputId": "2caadace-066f-4d82-a4a9-643358917ea7"
      },
      "execution_count": null,
      "outputs": [
        {
          "output_type": "stream",
          "name": "stdout",
          "text": [
            "Decoded Value: Chew sugar-free gum\n"
          ]
        }
      ]
    },
    {
      "cell_type": "markdown",
      "source": [
        "**Saving the model**"
      ],
      "metadata": {
        "id": "m5k_0u8bE3x0"
      }
    },
    {
      "cell_type": "code",
      "source": [
        "from xgboost import XGBClassifier\n",
        "\n",
        "# Assuming xgb_classifier is your trained XGBoost model\n",
        "xgb_classifier.save_model(\"/content/drive/MyDrive/symptoms_precautions.json\")"
      ],
      "metadata": {
        "id": "L7drmUoGD2jP"
      },
      "execution_count": null,
      "outputs": []
    },
    {
      "cell_type": "code",
      "source": [
        "import pickle\n",
        "\n",
        "# Assume you have a trained model named 'model'\n",
        "# and you want to save it to a file named 'model.pkl'\n",
        "\n",
        "# Save the model\n",
        "with open('symptoms_precautions.pkl', 'wb') as f:\n",
        "    pickle.dump(xgb_classifier, f)\n",
        "\n",
        "print(\"Model saved successfully.\")\n"
      ],
      "metadata": {
        "colab": {
          "base_uri": "https://localhost:8080/"
        },
        "id": "81uYrfq0BXZP",
        "outputId": "32a41a3d-8cd4-41dc-d1a9-78cb97638482"
      },
      "execution_count": null,
      "outputs": [
        {
          "output_type": "stream",
          "name": "stdout",
          "text": [
            "Model saved successfully.\n"
          ]
        }
      ]
    },
    {
      "cell_type": "markdown",
      "source": [
        "**Disease-Precautions**"
      ],
      "metadata": {
        "id": "OpravIpVdPYn"
      }
    },
    {
      "cell_type": "code",
      "source": [
        "import pandas as pd\n",
        "from sklearn.model_selection import train_test_split\n",
        "from sklearn.preprocessing import LabelEncoder\n",
        "from sklearn.feature_extraction.text import TfidfVectorizer\n",
        "from xgboost import XGBClassifier\n",
        "from sklearn.metrics import accuracy_score\n",
        "\n",
        "# Encode categorical variables\n",
        "label_encoder = LabelEncoder()\n",
        "df['Treatment'] = label_encoder.fit_transform(df['Treatment'])\n",
        "\n",
        "# Split data into features and labels\n",
        "X = df[['Disease']].apply(lambda x: ' '.join(x), axis=1)\n",
        "y = df['Treatment']\n",
        "\n",
        "# Step 2: Feature Engineering\n",
        "# TF-IDF vectorization\n",
        "tfidf_vectorizer = TfidfVectorizer(max_features=5000)  # Adjust max_features as needed\n",
        "X_tfidf = tfidf_vectorizer.fit_transform(X)\n",
        "\n",
        "# Step 3: Train-Test Split\n",
        "X_train, X_test, y_train, y_test = train_test_split(X_tfidf, y, test_size=0.2, random_state=42)\n",
        "\n",
        "# Step 4: Model Training\n",
        "xgb_classifier2 = XGBClassifier()\n",
        "xgb_classifier2.fit(X_train, y_train)\n",
        "\n",
        "# Step 5: Model Evaluation\n",
        "y_pred = xgb_classifier2.predict(X_test)\n",
        "accuracy = accuracy_score(y_test, y_pred)\n",
        "print(\"Accuracy:\", accuracy)"
      ],
      "metadata": {
        "colab": {
          "base_uri": "https://localhost:8080/"
        },
        "id": "yrTr78u_9LHq",
        "outputId": "593527cf-69ce-4b5b-f35a-ffb2e18c7278"
      },
      "execution_count": null,
      "outputs": [
        {
          "output_type": "stream",
          "name": "stdout",
          "text": [
            "Accuracy: 1.0\n"
          ]
        }
      ]
    },
    {
      "cell_type": "markdown",
      "source": [
        "**Testing**"
      ],
      "metadata": {
        "id": "u4-cXTZUEtgW"
      }
    },
    {
      "cell_type": "code",
      "source": [
        "# Randomly select a subset of data\n",
        "import random\n",
        "random_indices = random.sample(range(X_test.shape[0]), 10)  # Select 10 random indices\n",
        "X_subset = X_test[random_indices]\n",
        "y_subset = y_test.iloc[random_indices]"
      ],
      "metadata": {
        "id": "frlzerIB9skt"
      },
      "execution_count": null,
      "outputs": []
    },
    {
      "cell_type": "code",
      "source": [
        "# Predict diseases for the subset\n",
        "y_pred_subset = xgb_classifier2.predict(X_subset)\n",
        "\n",
        "# Evaluate predictions\n",
        "accuracy_subset = accuracy_score(y_subset, y_pred_subset)\n",
        "print(\"Accuracy on random subset:\", accuracy_subset)"
      ],
      "metadata": {
        "colab": {
          "base_uri": "https://localhost:8080/"
        },
        "id": "a_EXE9pE9w6I",
        "outputId": "bdcad5ca-d430-45a2-d91c-95d4772876c4"
      },
      "execution_count": null,
      "outputs": [
        {
          "output_type": "stream",
          "name": "stdout",
          "text": [
            "Accuracy on random subset: 1.0\n"
          ]
        }
      ]
    },
    {
      "cell_type": "markdown",
      "source": [
        "**decoding**"
      ],
      "metadata": {
        "id": "aIhMSubyEdDW"
      }
    },
    {
      "cell_type": "code",
      "source": [
        "# Get all unique encoded values\n",
        "unique_encoded_values = df['Treatment'].unique()  # Assuming 'Treatment' is the column with label encoded values\n",
        "\n",
        "# Create a dictionary to store the mapping of encoded values to decoded labels\n",
        "encoded_to_decoded_mapping = {}\n",
        "\n",
        "# Decode each unique encoded value and store the mapping\n",
        "for encoded_value in unique_encoded_values:\n",
        "    decoded_value = label_encoder.inverse_transform([encoded_value])[0]\n",
        "    encoded_to_decoded_mapping[encoded_value] = decoded_value\n",
        "\n",
        "# Print the mapping\n",
        "print(\"Encoded to Decoded Mapping:\")\n",
        "for encoded_value, decoded_value in encoded_to_decoded_mapping.items():\n",
        "    print(f\"{encoded_value}: {decoded_value}\")\n"
      ],
      "metadata": {
        "colab": {
          "base_uri": "https://localhost:8080/"
        },
        "id": "reEI_YUS901-",
        "outputId": "89f95caa-d453-453e-9b46-2e4c29a55c97"
      },
      "execution_count": null,
      "outputs": [
        {
          "output_type": "stream",
          "name": "stdout",
          "text": [
            "Encoded to Decoded Mapping:\n",
            "5: mouthwash\n",
            "0: Brush your teeth with warm water\n",
            "1: Chew sugar-free gum\n",
            "2: Cryotherapy\n",
            "3: Eat a well balanced diet\n",
            "4: Tooth polishing\n"
          ]
        }
      ]
    },
    {
      "cell_type": "markdown",
      "source": [
        "**Randomly checking Output**"
      ],
      "metadata": {
        "id": "hj1YgNs3EVys"
      }
    },
    {
      "cell_type": "code",
      "source": [
        "# Suppose you have a random input value\n",
        "random_input = ['Periodontitis']\n",
        "\n",
        "# Preprocess the input data\n",
        "random_input_str = ' '.join(random_input)\n",
        "random_input_tfidf = tfidf_vectorizer.transform([random_input_str])\n",
        "\n",
        "# Make predictions\n",
        "predicted_treatment = xgb_classifier2.predict(random_input_tfidf)\n",
        "\n",
        "# Decode the predicted treatment\n",
        "predicted_treatment_label = label_encoder.inverse_transform(predicted_treatment)\n",
        "\n",
        "print(\"Predicted Treatment:\", predicted_treatment_label[0])"
      ],
      "metadata": {
        "colab": {
          "base_uri": "https://localhost:8080/"
        },
        "id": "5DmEPMzTCGgm",
        "outputId": "e85c5277-ac4c-48af-873a-1af8c9ec7886"
      },
      "execution_count": null,
      "outputs": [
        {
          "output_type": "stream",
          "name": "stdout",
          "text": [
            "Predicted Treatment: Tooth polishing\n"
          ]
        }
      ]
    },
    {
      "cell_type": "markdown",
      "source": [
        "**Saving the model**"
      ],
      "metadata": {
        "id": "D8MDgDzeEQZF"
      }
    },
    {
      "cell_type": "code",
      "source": [
        "from xgboost import XGBClassifier\n",
        "\n",
        "# Assuming xgb_classifier is your trained XGBoost model\n",
        "xgb_classifier1.save_model(\"/content/drive/MyDrive/disease_precautions.json\")"
      ],
      "metadata": {
        "id": "WNXTzcq6Cich"
      },
      "execution_count": null,
      "outputs": []
    },
    {
      "cell_type": "code",
      "source": [
        "import pickle\n",
        "\n",
        "# Assume you have a trained model named 'model'\n",
        "# and you want to save it to a file named 'model.pkl'\n",
        "\n",
        "# Save the model\n",
        "with open('disease_precautions.pkl', 'wb') as f:\n",
        "    pickle.dump(xgb_classifier2, f)\n",
        "\n",
        "print(\"Model saved successfully.\")"
      ],
      "metadata": {
        "id": "bmscbgwIEAU9",
        "colab": {
          "base_uri": "https://localhost:8080/"
        },
        "outputId": "a3f3707b-5d24-40c4-c8b9-dfa974e8023a"
      },
      "execution_count": null,
      "outputs": [
        {
          "output_type": "stream",
          "name": "stdout",
          "text": [
            "Model saved successfully.\n"
          ]
        }
      ]
    },
    {
      "cell_type": "code",
      "source": [
        "import tensorflow as tf\n",
        "import keras\n",
        "print(tf.__version__)\n",
        "print(keras.__version__)\n",
        "\n",
        "\n"
      ],
      "metadata": {
        "id": "H02vgqWjD8Jn",
        "colab": {
          "base_uri": "https://localhost:8080/"
        },
        "outputId": "f846cb3e-8ee1-4319-8aaf-2cf3de942fc7"
      },
      "execution_count": null,
      "outputs": [
        {
          "output_type": "stream",
          "name": "stdout",
          "text": [
            "2.15.0\n",
            "2.15.0\n"
          ]
        }
      ]
    }
  ]
}